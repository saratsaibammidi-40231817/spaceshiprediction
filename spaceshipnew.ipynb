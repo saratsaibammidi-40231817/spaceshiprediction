{
 "cells": [
  {
   "cell_type": "code",
   "execution_count": null,
   "id": "61951a7e",
   "metadata": {
    "papermill": {
     "duration": 0.005417,
     "end_time": "2023-05-23T05:55:00.324047",
     "exception": false,
     "start_time": "2023-05-23T05:55:00.318630",
     "status": "completed"
    },
    "tags": []
   },
   "outputs": [],
   "source": []
  },
  {
   "cell_type": "code",
   "execution_count": 1,
   "id": "119d7719",
   "metadata": {
    "_cell_guid": "b1076dfc-b9ad-4769-8c92-a6c4dae69d19",
    "_uuid": "8f2839f25d086af736a60e9eeb907d3b93b6e0e5",
    "execution": {
     "iopub.execute_input": "2023-05-23T05:55:00.337746Z",
     "iopub.status.busy": "2023-05-23T05:55:00.337108Z",
     "iopub.status.idle": "2023-05-23T05:55:00.352172Z",
     "shell.execute_reply": "2023-05-23T05:55:00.350547Z"
    },
    "papermill": {
     "duration": 0.026135,
     "end_time": "2023-05-23T05:55:00.355678",
     "exception": false,
     "start_time": "2023-05-23T05:55:00.329543",
     "status": "completed"
    },
    "tags": []
   },
   "outputs": [
    {
     "name": "stdout",
     "output_type": "stream",
     "text": [
      "/kaggle/input/spaceship-titanic/sample_submission.csv\n",
      "/kaggle/input/spaceship-titanic/train.csv\n",
      "/kaggle/input/spaceship-titanic/test.csv\n"
     ]
    }
   ],
   "source": [
    "# This Python 3 environment comes with many helpful analytics libraries installed\n",
    "# It is defined by the kaggle/python Docker image: https://github.com/kaggle/docker-python\n",
    "# For example, here's several helpful packages to load\n",
    "\n",
    "import numpy as np # linear algebra\n",
    "import pandas as pd # data processing, CSV file I/O (e.g. pd.read_csv)\n",
    "\n",
    "# Input data files are available in the read-only \"../input/\" directory\n",
    "# For example, running this (by clicking run or pressing Shift+Enter) will list all files under the input directory\n",
    "\n",
    "import os\n",
    "for dirname, _, filenames in os.walk('/kaggle/input'):\n",
    "    for filename in filenames:\n",
    "        print(os.path.join(dirname, filename))\n",
    "\n",
    "# You can write up to 20GB to the current directory (/kaggle/working/) that gets preserved as output when you create a version using \"Save & Run All\" \n",
    "# You can also write temporary files to /kaggle/temp/, but they won't be saved outside of the current session"
   ]
  },
  {
   "cell_type": "code",
   "execution_count": 2,
   "id": "69ee49bb",
   "metadata": {
    "execution": {
     "iopub.execute_input": "2023-05-23T05:55:00.369550Z",
     "iopub.status.busy": "2023-05-23T05:55:00.369167Z",
     "iopub.status.idle": "2023-05-23T05:55:01.613084Z",
     "shell.execute_reply": "2023-05-23T05:55:01.611181Z"
    },
    "papermill": {
     "duration": 1.255368,
     "end_time": "2023-05-23T05:55:01.616468",
     "exception": false,
     "start_time": "2023-05-23T05:55:00.361100",
     "status": "completed"
    },
    "tags": []
   },
   "outputs": [
    {
     "name": "stderr",
     "output_type": "stream",
     "text": [
      "/opt/conda/lib/python3.10/site-packages/scipy/__init__.py:146: UserWarning: A NumPy version >=1.16.5 and <1.23.0 is required for this version of SciPy (detected version 1.23.5\n",
      "  warnings.warn(f\"A NumPy version >={np_minversion} and <{np_maxversion}\"\n"
     ]
    }
   ],
   "source": [
    "import numpy as np\n",
    "import pandas as pd\n",
    "import sklearn"
   ]
  },
  {
   "cell_type": "code",
   "execution_count": 3,
   "id": "72e8192a",
   "metadata": {
    "execution": {
     "iopub.execute_input": "2023-05-23T05:55:01.631304Z",
     "iopub.status.busy": "2023-05-23T05:55:01.630056Z",
     "iopub.status.idle": "2023-05-23T05:55:01.739584Z",
     "shell.execute_reply": "2023-05-23T05:55:01.738413Z"
    },
    "papermill": {
     "duration": 0.1199,
     "end_time": "2023-05-23T05:55:01.742202",
     "exception": false,
     "start_time": "2023-05-23T05:55:01.622302",
     "status": "completed"
    },
    "tags": []
   },
   "outputs": [],
   "source": [
    "train_data = pd.read_csv(\"/kaggle/input/spaceship-titanic/train.csv\")\n",
    "test_data = pd.read_csv(\"/kaggle/input/spaceship-titanic/test.csv\")"
   ]
  },
  {
   "cell_type": "code",
   "execution_count": 4,
   "id": "c6899639",
   "metadata": {
    "execution": {
     "iopub.execute_input": "2023-05-23T05:55:01.756519Z",
     "iopub.status.busy": "2023-05-23T05:55:01.756118Z",
     "iopub.status.idle": "2023-05-23T05:55:01.799877Z",
     "shell.execute_reply": "2023-05-23T05:55:01.798339Z"
    },
    "papermill": {
     "duration": 0.054069,
     "end_time": "2023-05-23T05:55:01.802444",
     "exception": false,
     "start_time": "2023-05-23T05:55:01.748375",
     "status": "completed"
    },
    "tags": []
   },
   "outputs": [
    {
     "name": "stdout",
     "output_type": "stream",
     "text": [
      "<class 'pandas.core.frame.DataFrame'>\n",
      "RangeIndex: 8693 entries, 0 to 8692\n",
      "Data columns (total 14 columns):\n",
      " #   Column        Non-Null Count  Dtype  \n",
      "---  ------        --------------  -----  \n",
      " 0   PassengerId   8693 non-null   object \n",
      " 1   HomePlanet    8492 non-null   object \n",
      " 2   CryoSleep     8476 non-null   object \n",
      " 3   Cabin         8494 non-null   object \n",
      " 4   Destination   8511 non-null   object \n",
      " 5   Age           8514 non-null   float64\n",
      " 6   VIP           8490 non-null   object \n",
      " 7   RoomService   8512 non-null   float64\n",
      " 8   FoodCourt     8510 non-null   float64\n",
      " 9   ShoppingMall  8485 non-null   float64\n",
      " 10  Spa           8510 non-null   float64\n",
      " 11  VRDeck        8505 non-null   float64\n",
      " 12  Name          8493 non-null   object \n",
      " 13  Transported   8693 non-null   bool   \n",
      "dtypes: bool(1), float64(6), object(7)\n",
      "memory usage: 891.5+ KB\n"
     ]
    }
   ],
   "source": [
    "train_data.info()"
   ]
  },
  {
   "cell_type": "code",
   "execution_count": 5,
   "id": "00a38295",
   "metadata": {
    "execution": {
     "iopub.execute_input": "2023-05-23T05:55:01.816687Z",
     "iopub.status.busy": "2023-05-23T05:55:01.816262Z",
     "iopub.status.idle": "2023-05-23T05:55:01.868971Z",
     "shell.execute_reply": "2023-05-23T05:55:01.867689Z"
    },
    "papermill": {
     "duration": 0.06314,
     "end_time": "2023-05-23T05:55:01.871767",
     "exception": false,
     "start_time": "2023-05-23T05:55:01.808627",
     "status": "completed"
    },
    "tags": []
   },
   "outputs": [
    {
     "data": {
      "text/html": [
       "<div>\n",
       "<style scoped>\n",
       "    .dataframe tbody tr th:only-of-type {\n",
       "        vertical-align: middle;\n",
       "    }\n",
       "\n",
       "    .dataframe tbody tr th {\n",
       "        vertical-align: top;\n",
       "    }\n",
       "\n",
       "    .dataframe thead th {\n",
       "        text-align: right;\n",
       "    }\n",
       "</style>\n",
       "<table border=\"1\" class=\"dataframe\">\n",
       "  <thead>\n",
       "    <tr style=\"text-align: right;\">\n",
       "      <th></th>\n",
       "      <th>Age</th>\n",
       "      <th>RoomService</th>\n",
       "      <th>FoodCourt</th>\n",
       "      <th>ShoppingMall</th>\n",
       "      <th>Spa</th>\n",
       "      <th>VRDeck</th>\n",
       "    </tr>\n",
       "  </thead>\n",
       "  <tbody>\n",
       "    <tr>\n",
       "      <th>count</th>\n",
       "      <td>8514.000000</td>\n",
       "      <td>8512.000000</td>\n",
       "      <td>8510.000000</td>\n",
       "      <td>8485.000000</td>\n",
       "      <td>8510.000000</td>\n",
       "      <td>8505.000000</td>\n",
       "    </tr>\n",
       "    <tr>\n",
       "      <th>mean</th>\n",
       "      <td>28.827930</td>\n",
       "      <td>224.687617</td>\n",
       "      <td>458.077203</td>\n",
       "      <td>173.729169</td>\n",
       "      <td>311.138778</td>\n",
       "      <td>304.854791</td>\n",
       "    </tr>\n",
       "    <tr>\n",
       "      <th>std</th>\n",
       "      <td>14.489021</td>\n",
       "      <td>666.717663</td>\n",
       "      <td>1611.489240</td>\n",
       "      <td>604.696458</td>\n",
       "      <td>1136.705535</td>\n",
       "      <td>1145.717189</td>\n",
       "    </tr>\n",
       "    <tr>\n",
       "      <th>min</th>\n",
       "      <td>0.000000</td>\n",
       "      <td>0.000000</td>\n",
       "      <td>0.000000</td>\n",
       "      <td>0.000000</td>\n",
       "      <td>0.000000</td>\n",
       "      <td>0.000000</td>\n",
       "    </tr>\n",
       "    <tr>\n",
       "      <th>25%</th>\n",
       "      <td>19.000000</td>\n",
       "      <td>0.000000</td>\n",
       "      <td>0.000000</td>\n",
       "      <td>0.000000</td>\n",
       "      <td>0.000000</td>\n",
       "      <td>0.000000</td>\n",
       "    </tr>\n",
       "    <tr>\n",
       "      <th>50%</th>\n",
       "      <td>27.000000</td>\n",
       "      <td>0.000000</td>\n",
       "      <td>0.000000</td>\n",
       "      <td>0.000000</td>\n",
       "      <td>0.000000</td>\n",
       "      <td>0.000000</td>\n",
       "    </tr>\n",
       "    <tr>\n",
       "      <th>75%</th>\n",
       "      <td>38.000000</td>\n",
       "      <td>47.000000</td>\n",
       "      <td>76.000000</td>\n",
       "      <td>27.000000</td>\n",
       "      <td>59.000000</td>\n",
       "      <td>46.000000</td>\n",
       "    </tr>\n",
       "    <tr>\n",
       "      <th>max</th>\n",
       "      <td>79.000000</td>\n",
       "      <td>14327.000000</td>\n",
       "      <td>29813.000000</td>\n",
       "      <td>23492.000000</td>\n",
       "      <td>22408.000000</td>\n",
       "      <td>24133.000000</td>\n",
       "    </tr>\n",
       "  </tbody>\n",
       "</table>\n",
       "</div>"
      ],
      "text/plain": [
       "               Age   RoomService     FoodCourt  ShoppingMall           Spa  \\\n",
       "count  8514.000000   8512.000000   8510.000000   8485.000000   8510.000000   \n",
       "mean     28.827930    224.687617    458.077203    173.729169    311.138778   \n",
       "std      14.489021    666.717663   1611.489240    604.696458   1136.705535   \n",
       "min       0.000000      0.000000      0.000000      0.000000      0.000000   \n",
       "25%      19.000000      0.000000      0.000000      0.000000      0.000000   \n",
       "50%      27.000000      0.000000      0.000000      0.000000      0.000000   \n",
       "75%      38.000000     47.000000     76.000000     27.000000     59.000000   \n",
       "max      79.000000  14327.000000  29813.000000  23492.000000  22408.000000   \n",
       "\n",
       "             VRDeck  \n",
       "count   8505.000000  \n",
       "mean     304.854791  \n",
       "std     1145.717189  \n",
       "min        0.000000  \n",
       "25%        0.000000  \n",
       "50%        0.000000  \n",
       "75%       46.000000  \n",
       "max    24133.000000  "
      ]
     },
     "execution_count": 5,
     "metadata": {},
     "output_type": "execute_result"
    }
   ],
   "source": [
    "train_data.describe()\n"
   ]
  },
  {
   "cell_type": "code",
   "execution_count": 6,
   "id": "2089ce2b",
   "metadata": {
    "execution": {
     "iopub.execute_input": "2023-05-23T05:55:01.885475Z",
     "iopub.status.busy": "2023-05-23T05:55:01.884517Z",
     "iopub.status.idle": "2023-05-23T05:55:01.905009Z",
     "shell.execute_reply": "2023-05-23T05:55:01.903676Z"
    },
    "papermill": {
     "duration": 0.030516,
     "end_time": "2023-05-23T05:55:01.908116",
     "exception": false,
     "start_time": "2023-05-23T05:55:01.877600",
     "status": "completed"
    },
    "tags": []
   },
   "outputs": [
    {
     "data": {
      "text/plain": [
       "PassengerId       0\n",
       "HomePlanet      201\n",
       "CryoSleep       217\n",
       "Cabin           199\n",
       "Destination     182\n",
       "Age             179\n",
       "VIP             203\n",
       "RoomService     181\n",
       "FoodCourt       183\n",
       "ShoppingMall    208\n",
       "Spa             183\n",
       "VRDeck          188\n",
       "Name            200\n",
       "Transported       0\n",
       "dtype: int64"
      ]
     },
     "execution_count": 6,
     "metadata": {},
     "output_type": "execute_result"
    }
   ],
   "source": [
    "train_data.isnull().sum()\n"
   ]
  },
  {
   "cell_type": "code",
   "execution_count": 7,
   "id": "da406c5c",
   "metadata": {
    "execution": {
     "iopub.execute_input": "2023-05-23T05:55:01.924899Z",
     "iopub.status.busy": "2023-05-23T05:55:01.924486Z",
     "iopub.status.idle": "2023-05-23T05:55:01.935116Z",
     "shell.execute_reply": "2023-05-23T05:55:01.933668Z"
    },
    "papermill": {
     "duration": 0.021838,
     "end_time": "2023-05-23T05:55:01.938071",
     "exception": false,
     "start_time": "2023-05-23T05:55:01.916233",
     "status": "completed"
    },
    "tags": []
   },
   "outputs": [],
   "source": [
    "def cleantrain(data): \n",
    "    \n",
    "    data.drop([\"PassengerId\", 'Name'], axis = 1, inplace = True)\n",
    "    data = pd.get_dummies(data, columns= ['HomePlanet', 'CryoSleep', 'Destination', 'VIP']\n",
    "                                                 , drop_first= True)\n",
    "    data = pd.concat([data, pd.get_dummies(data['Cabin'].str[0], drop_first = True)], axis = 1)\n",
    "    data = pd.concat([data, pd.get_dummies(data['Cabin'].str[-1], drop_first = True)], axis = 1)\n",
    "    data.drop('Cabin', axis = 1, inplace= True)\n",
    "    data['Age'].fillna(data['Age'].median(), inplace = True)\n",
    "    data['RoomService'].fillna(data['RoomService'].median(), inplace = True)\n",
    "    data['FoodCourt'].fillna(data['FoodCourt'].median(), inplace = True)\n",
    "    data['ShoppingMall'].fillna(data['ShoppingMall'].median(), inplace = True)\n",
    "    data['Spa'].fillna(data['Spa'].median(), inplace = True)\n",
    "    data['VRDeck'].fillna(data['VRDeck'].median(), inplace = True)\n",
    "\n",
    "    return data"
   ]
  },
  {
   "cell_type": "code",
   "execution_count": 8,
   "id": "20b1b1cc",
   "metadata": {
    "execution": {
     "iopub.execute_input": "2023-05-23T05:55:01.954906Z",
     "iopub.status.busy": "2023-05-23T05:55:01.952989Z",
     "iopub.status.idle": "2023-05-23T05:55:01.964908Z",
     "shell.execute_reply": "2023-05-23T05:55:01.962880Z"
    },
    "papermill": {
     "duration": 0.023884,
     "end_time": "2023-05-23T05:55:01.967836",
     "exception": false,
     "start_time": "2023-05-23T05:55:01.943952",
     "status": "completed"
    },
    "tags": []
   },
   "outputs": [],
   "source": [
    "def cleantest(data): \n",
    "    \n",
    "    data.drop(['Name'], axis = 1, inplace = True)\n",
    "    data = pd.get_dummies(data, columns= ['HomePlanet', 'CryoSleep', 'Destination', 'VIP']\n",
    "                                                 , drop_first= True)\n",
    "    data = pd.concat([data, pd.get_dummies(data['Cabin'].str[0], drop_first = True)], axis = 1)\n",
    "    data = pd.concat([data, pd.get_dummies(data['Cabin'].str[-1], drop_first = True)], axis = 1)\n",
    "    data.drop('Cabin', axis = 1, inplace= True)\n",
    "    data['Age'].fillna(data['Age'].median(), inplace = True)\n",
    "    data['RoomService'].fillna(data['RoomService'].median(), inplace = True)\n",
    "    data['FoodCourt'].fillna(data['FoodCourt'].median(), inplace = True)\n",
    "    data['ShoppingMall'].fillna(data['ShoppingMall'].median(), inplace = True)\n",
    "    data['Spa'].fillna(data['Spa'].median(), inplace = True)\n",
    "    data['VRDeck'].fillna(data['VRDeck'].median(), inplace = True)\n",
    "\n",
    "    return data"
   ]
  },
  {
   "cell_type": "code",
   "execution_count": 9,
   "id": "68b1f70b",
   "metadata": {
    "execution": {
     "iopub.execute_input": "2023-05-23T05:55:01.982327Z",
     "iopub.status.busy": "2023-05-23T05:55:01.981949Z",
     "iopub.status.idle": "2023-05-23T05:55:02.053409Z",
     "shell.execute_reply": "2023-05-23T05:55:02.051609Z"
    },
    "papermill": {
     "duration": 0.083233,
     "end_time": "2023-05-23T05:55:02.057506",
     "exception": false,
     "start_time": "2023-05-23T05:55:01.974273",
     "status": "completed"
    },
    "tags": []
   },
   "outputs": [],
   "source": [
    "train= cleantrain(train_data)\n",
    "test=cleantest(test_data)"
   ]
  },
  {
   "cell_type": "code",
   "execution_count": 10,
   "id": "58ea3051",
   "metadata": {
    "execution": {
     "iopub.execute_input": "2023-05-23T05:55:02.072305Z",
     "iopub.status.busy": "2023-05-23T05:55:02.071621Z",
     "iopub.status.idle": "2023-05-23T05:55:02.099560Z",
     "shell.execute_reply": "2023-05-23T05:55:02.098083Z"
    },
    "papermill": {
     "duration": 0.039168,
     "end_time": "2023-05-23T05:55:02.102427",
     "exception": false,
     "start_time": "2023-05-23T05:55:02.063259",
     "status": "completed"
    },
    "tags": []
   },
   "outputs": [
    {
     "data": {
      "text/html": [
       "<div>\n",
       "<style scoped>\n",
       "    .dataframe tbody tr th:only-of-type {\n",
       "        vertical-align: middle;\n",
       "    }\n",
       "\n",
       "    .dataframe tbody tr th {\n",
       "        vertical-align: top;\n",
       "    }\n",
       "\n",
       "    .dataframe thead th {\n",
       "        text-align: right;\n",
       "    }\n",
       "</style>\n",
       "<table border=\"1\" class=\"dataframe\">\n",
       "  <thead>\n",
       "    <tr style=\"text-align: right;\">\n",
       "      <th></th>\n",
       "      <th>Age</th>\n",
       "      <th>RoomService</th>\n",
       "      <th>FoodCourt</th>\n",
       "      <th>ShoppingMall</th>\n",
       "      <th>Spa</th>\n",
       "      <th>VRDeck</th>\n",
       "      <th>Transported</th>\n",
       "      <th>HomePlanet_Europa</th>\n",
       "      <th>HomePlanet_Mars</th>\n",
       "      <th>CryoSleep_True</th>\n",
       "      <th>...</th>\n",
       "      <th>Destination_TRAPPIST-1e</th>\n",
       "      <th>VIP_True</th>\n",
       "      <th>B</th>\n",
       "      <th>C</th>\n",
       "      <th>D</th>\n",
       "      <th>E</th>\n",
       "      <th>F</th>\n",
       "      <th>G</th>\n",
       "      <th>T</th>\n",
       "      <th>S</th>\n",
       "    </tr>\n",
       "  </thead>\n",
       "  <tbody>\n",
       "    <tr>\n",
       "      <th>0</th>\n",
       "      <td>39.0</td>\n",
       "      <td>0.0</td>\n",
       "      <td>0.0</td>\n",
       "      <td>0.0</td>\n",
       "      <td>0.0</td>\n",
       "      <td>0.0</td>\n",
       "      <td>False</td>\n",
       "      <td>1</td>\n",
       "      <td>0</td>\n",
       "      <td>0</td>\n",
       "      <td>...</td>\n",
       "      <td>1</td>\n",
       "      <td>0</td>\n",
       "      <td>1</td>\n",
       "      <td>0</td>\n",
       "      <td>0</td>\n",
       "      <td>0</td>\n",
       "      <td>0</td>\n",
       "      <td>0</td>\n",
       "      <td>0</td>\n",
       "      <td>0</td>\n",
       "    </tr>\n",
       "    <tr>\n",
       "      <th>1</th>\n",
       "      <td>24.0</td>\n",
       "      <td>109.0</td>\n",
       "      <td>9.0</td>\n",
       "      <td>25.0</td>\n",
       "      <td>549.0</td>\n",
       "      <td>44.0</td>\n",
       "      <td>True</td>\n",
       "      <td>0</td>\n",
       "      <td>0</td>\n",
       "      <td>0</td>\n",
       "      <td>...</td>\n",
       "      <td>1</td>\n",
       "      <td>0</td>\n",
       "      <td>0</td>\n",
       "      <td>0</td>\n",
       "      <td>0</td>\n",
       "      <td>0</td>\n",
       "      <td>1</td>\n",
       "      <td>0</td>\n",
       "      <td>0</td>\n",
       "      <td>1</td>\n",
       "    </tr>\n",
       "    <tr>\n",
       "      <th>2</th>\n",
       "      <td>58.0</td>\n",
       "      <td>43.0</td>\n",
       "      <td>3576.0</td>\n",
       "      <td>0.0</td>\n",
       "      <td>6715.0</td>\n",
       "      <td>49.0</td>\n",
       "      <td>False</td>\n",
       "      <td>1</td>\n",
       "      <td>0</td>\n",
       "      <td>0</td>\n",
       "      <td>...</td>\n",
       "      <td>1</td>\n",
       "      <td>1</td>\n",
       "      <td>0</td>\n",
       "      <td>0</td>\n",
       "      <td>0</td>\n",
       "      <td>0</td>\n",
       "      <td>0</td>\n",
       "      <td>0</td>\n",
       "      <td>0</td>\n",
       "      <td>1</td>\n",
       "    </tr>\n",
       "    <tr>\n",
       "      <th>3</th>\n",
       "      <td>33.0</td>\n",
       "      <td>0.0</td>\n",
       "      <td>1283.0</td>\n",
       "      <td>371.0</td>\n",
       "      <td>3329.0</td>\n",
       "      <td>193.0</td>\n",
       "      <td>False</td>\n",
       "      <td>1</td>\n",
       "      <td>0</td>\n",
       "      <td>0</td>\n",
       "      <td>...</td>\n",
       "      <td>1</td>\n",
       "      <td>0</td>\n",
       "      <td>0</td>\n",
       "      <td>0</td>\n",
       "      <td>0</td>\n",
       "      <td>0</td>\n",
       "      <td>0</td>\n",
       "      <td>0</td>\n",
       "      <td>0</td>\n",
       "      <td>1</td>\n",
       "    </tr>\n",
       "    <tr>\n",
       "      <th>4</th>\n",
       "      <td>16.0</td>\n",
       "      <td>303.0</td>\n",
       "      <td>70.0</td>\n",
       "      <td>151.0</td>\n",
       "      <td>565.0</td>\n",
       "      <td>2.0</td>\n",
       "      <td>True</td>\n",
       "      <td>0</td>\n",
       "      <td>0</td>\n",
       "      <td>0</td>\n",
       "      <td>...</td>\n",
       "      <td>1</td>\n",
       "      <td>0</td>\n",
       "      <td>0</td>\n",
       "      <td>0</td>\n",
       "      <td>0</td>\n",
       "      <td>0</td>\n",
       "      <td>1</td>\n",
       "      <td>0</td>\n",
       "      <td>0</td>\n",
       "      <td>1</td>\n",
       "    </tr>\n",
       "  </tbody>\n",
       "</table>\n",
       "<p>5 rows × 21 columns</p>\n",
       "</div>"
      ],
      "text/plain": [
       "    Age  RoomService  FoodCourt  ShoppingMall     Spa  VRDeck  Transported  \\\n",
       "0  39.0          0.0        0.0           0.0     0.0     0.0        False   \n",
       "1  24.0        109.0        9.0          25.0   549.0    44.0         True   \n",
       "2  58.0         43.0     3576.0           0.0  6715.0    49.0        False   \n",
       "3  33.0          0.0     1283.0         371.0  3329.0   193.0        False   \n",
       "4  16.0        303.0       70.0         151.0   565.0     2.0         True   \n",
       "\n",
       "   HomePlanet_Europa  HomePlanet_Mars  CryoSleep_True  ...  \\\n",
       "0                  1                0               0  ...   \n",
       "1                  0                0               0  ...   \n",
       "2                  1                0               0  ...   \n",
       "3                  1                0               0  ...   \n",
       "4                  0                0               0  ...   \n",
       "\n",
       "   Destination_TRAPPIST-1e  VIP_True  B  C  D  E  F  G  T  S  \n",
       "0                        1         0  1  0  0  0  0  0  0  0  \n",
       "1                        1         0  0  0  0  0  1  0  0  1  \n",
       "2                        1         1  0  0  0  0  0  0  0  1  \n",
       "3                        1         0  0  0  0  0  0  0  0  1  \n",
       "4                        1         0  0  0  0  0  1  0  0  1  \n",
       "\n",
       "[5 rows x 21 columns]"
      ]
     },
     "execution_count": 10,
     "metadata": {},
     "output_type": "execute_result"
    }
   ],
   "source": [
    "train.head()"
   ]
  },
  {
   "cell_type": "code",
   "execution_count": 11,
   "id": "d5726914",
   "metadata": {
    "execution": {
     "iopub.execute_input": "2023-05-23T05:55:02.117624Z",
     "iopub.status.busy": "2023-05-23T05:55:02.117260Z",
     "iopub.status.idle": "2023-05-23T05:55:02.131696Z",
     "shell.execute_reply": "2023-05-23T05:55:02.129553Z"
    },
    "papermill": {
     "duration": 0.026512,
     "end_time": "2023-05-23T05:55:02.134977",
     "exception": false,
     "start_time": "2023-05-23T05:55:02.108465",
     "status": "completed"
    },
    "tags": []
   },
   "outputs": [
    {
     "data": {
      "text/plain": [
       "PassengerId                  0\n",
       "Age                          0\n",
       "RoomService                  0\n",
       "FoodCourt                    0\n",
       "ShoppingMall                 0\n",
       "Spa                          0\n",
       "VRDeck                       0\n",
       "HomePlanet_Europa            0\n",
       "HomePlanet_Mars              0\n",
       "CryoSleep_True               0\n",
       "Destination_PSO J318.5-22    0\n",
       "Destination_TRAPPIST-1e      0\n",
       "VIP_True                     0\n",
       "B                            0\n",
       "C                            0\n",
       "D                            0\n",
       "E                            0\n",
       "F                            0\n",
       "G                            0\n",
       "T                            0\n",
       "S                            0\n",
       "dtype: int64"
      ]
     },
     "execution_count": 11,
     "metadata": {},
     "output_type": "execute_result"
    }
   ],
   "source": [
    "test.isnull().sum()\n"
   ]
  },
  {
   "cell_type": "code",
   "execution_count": 12,
   "id": "fb86ba71",
   "metadata": {
    "execution": {
     "iopub.execute_input": "2023-05-23T05:55:02.150740Z",
     "iopub.status.busy": "2023-05-23T05:55:02.150118Z",
     "iopub.status.idle": "2023-05-23T05:55:02.343540Z",
     "shell.execute_reply": "2023-05-23T05:55:02.341949Z"
    },
    "papermill": {
     "duration": 0.205199,
     "end_time": "2023-05-23T05:55:02.346455",
     "exception": false,
     "start_time": "2023-05-23T05:55:02.141256",
     "status": "completed"
    },
    "tags": []
   },
   "outputs": [],
   "source": [
    "X = train.drop('Transported', axis = 1)\n",
    "y = train['Transported']\n",
    "from sklearn.model_selection import train_test_split\n",
    "X_train, X_test, y_train, y_test = train_test_split(X, y, test_size=0.2, random_state=142)"
   ]
  },
  {
   "cell_type": "code",
   "execution_count": 13,
   "id": "24fe668f",
   "metadata": {
    "execution": {
     "iopub.execute_input": "2023-05-23T05:55:02.363024Z",
     "iopub.status.busy": "2023-05-23T05:55:02.362582Z",
     "iopub.status.idle": "2023-05-23T05:55:02.369788Z",
     "shell.execute_reply": "2023-05-23T05:55:02.368677Z"
    },
    "papermill": {
     "duration": 0.019644,
     "end_time": "2023-05-23T05:55:02.373230",
     "exception": false,
     "start_time": "2023-05-23T05:55:02.353586",
     "status": "completed"
    },
    "tags": []
   },
   "outputs": [
    {
     "data": {
      "text/plain": [
       "((8693, 20), (8693,))"
      ]
     },
     "execution_count": 13,
     "metadata": {},
     "output_type": "execute_result"
    }
   ],
   "source": [
    "X.shape,y.shape"
   ]
  },
  {
   "cell_type": "code",
   "execution_count": 14,
   "id": "b7459523",
   "metadata": {
    "execution": {
     "iopub.execute_input": "2023-05-23T05:55:02.389921Z",
     "iopub.status.busy": "2023-05-23T05:55:02.389024Z",
     "iopub.status.idle": "2023-05-23T05:55:02.648878Z",
     "shell.execute_reply": "2023-05-23T05:55:02.646300Z"
    },
    "papermill": {
     "duration": 0.274184,
     "end_time": "2023-05-23T05:55:02.654415",
     "exception": false,
     "start_time": "2023-05-23T05:55:02.380231",
     "status": "completed"
    },
    "tags": []
   },
   "outputs": [
    {
     "name": "stdout",
     "output_type": "stream",
     "text": [
      "0.7860839562967222\n"
     ]
    },
    {
     "name": "stderr",
     "output_type": "stream",
     "text": [
      "/opt/conda/lib/python3.10/site-packages/sklearn/linear_model/_logistic.py:458: ConvergenceWarning: lbfgs failed to converge (status=1):\n",
      "STOP: TOTAL NO. of ITERATIONS REACHED LIMIT.\n",
      "\n",
      "Increase the number of iterations (max_iter) or scale the data as shown in:\n",
      "    https://scikit-learn.org/stable/modules/preprocessing.html\n",
      "Please also refer to the documentation for alternative solver options:\n",
      "    https://scikit-learn.org/stable/modules/linear_model.html#logistic-regression\n",
      "  n_iter_i = _check_optimize_result(\n"
     ]
    }
   ],
   "source": [
    "from sklearn.linear_model import LogisticRegression\n",
    "from sklearn.metrics import classification_report,accuracy_score\n",
    "from sklearn.model_selection import train_test_split\n",
    "lr=LogisticRegression()\n",
    "lr.fit(X_train,y_train)\n",
    "prediction=lr.predict(X_test)\n",
    "print(accuracy_score(y_test,prediction))"
   ]
  },
  {
   "cell_type": "code",
   "execution_count": 15,
   "id": "b08013fd",
   "metadata": {
    "execution": {
     "iopub.execute_input": "2023-05-23T05:55:02.679324Z",
     "iopub.status.busy": "2023-05-23T05:55:02.678703Z",
     "iopub.status.idle": "2023-05-23T05:55:03.624289Z",
     "shell.execute_reply": "2023-05-23T05:55:03.622507Z"
    },
    "papermill": {
     "duration": 0.960916,
     "end_time": "2023-05-23T05:55:03.626922",
     "exception": false,
     "start_time": "2023-05-23T05:55:02.666006",
     "status": "completed"
    },
    "tags": []
   },
   "outputs": [
    {
     "name": "stdout",
     "output_type": "stream",
     "text": [
      "0.8033352501437608\n"
     ]
    }
   ],
   "source": [
    "from sklearn.ensemble import RandomForestClassifier\n",
    "from sklearn.metrics import accuracy_score\n",
    "from sklearn.model_selection import train_test_split\n",
    "from sklearn.preprocessing import OrdinalEncoder\n",
    "\n",
    "rf=RandomForestClassifier(n_estimators=75,max_depth=10,random_state=15)\n",
    "rf.fit(X_train,y_train)\n",
    "prediction=rf.predict(X_test)\n",
    "print(accuracy_score(y_test,prediction))"
   ]
  },
  {
   "cell_type": "code",
   "execution_count": 16,
   "id": "36a8c70f",
   "metadata": {
    "execution": {
     "iopub.execute_input": "2023-05-23T05:55:03.642825Z",
     "iopub.status.busy": "2023-05-23T05:55:03.642426Z",
     "iopub.status.idle": "2023-05-23T05:55:04.404778Z",
     "shell.execute_reply": "2023-05-23T05:55:04.403319Z"
    },
    "papermill": {
     "duration": 0.773518,
     "end_time": "2023-05-23T05:55:04.407938",
     "exception": false,
     "start_time": "2023-05-23T05:55:03.634420",
     "status": "completed"
    },
    "tags": []
   },
   "outputs": [
    {
     "data": {
      "text/html": [
       "<div>\n",
       "<style scoped>\n",
       "    .dataframe tbody tr th:only-of-type {\n",
       "        vertical-align: middle;\n",
       "    }\n",
       "\n",
       "    .dataframe tbody tr th {\n",
       "        vertical-align: top;\n",
       "    }\n",
       "\n",
       "    .dataframe thead th {\n",
       "        text-align: right;\n",
       "    }\n",
       "</style>\n",
       "<table border=\"1\" class=\"dataframe\">\n",
       "  <thead>\n",
       "    <tr style=\"text-align: right;\">\n",
       "      <th></th>\n",
       "      <th>PassengerId</th>\n",
       "      <th>Transported</th>\n",
       "    </tr>\n",
       "  </thead>\n",
       "  <tbody>\n",
       "    <tr>\n",
       "      <th>0</th>\n",
       "      <td>0013_01</td>\n",
       "      <td>True</td>\n",
       "    </tr>\n",
       "    <tr>\n",
       "      <th>1</th>\n",
       "      <td>0018_01</td>\n",
       "      <td>False</td>\n",
       "    </tr>\n",
       "    <tr>\n",
       "      <th>2</th>\n",
       "      <td>0019_01</td>\n",
       "      <td>True</td>\n",
       "    </tr>\n",
       "    <tr>\n",
       "      <th>3</th>\n",
       "      <td>0021_01</td>\n",
       "      <td>True</td>\n",
       "    </tr>\n",
       "    <tr>\n",
       "      <th>4</th>\n",
       "      <td>0023_01</td>\n",
       "      <td>True</td>\n",
       "    </tr>\n",
       "  </tbody>\n",
       "</table>\n",
       "</div>"
      ],
      "text/plain": [
       "  PassengerId  Transported\n",
       "0     0013_01         True\n",
       "1     0018_01        False\n",
       "2     0019_01         True\n",
       "3     0021_01         True\n",
       "4     0023_01         True"
      ]
     },
     "execution_count": 16,
     "metadata": {},
     "output_type": "execute_result"
    }
   ],
   "source": [
    "subid = test.PassengerId\n",
    "test.drop('PassengerId', inplace=True, axis=1)\n",
    "\n",
    "rf.fit(X,y)\n",
    "pred = rf.predict(test)\n",
    "pred = pred.astype(bool)\n",
    "output = pd.DataFrame({'PassengerId': subid,'Transported': pred.squeeze()})\n",
    "output.head()"
   ]
  },
  {
   "cell_type": "code",
   "execution_count": 17,
   "id": "95ba2c3c",
   "metadata": {
    "execution": {
     "iopub.execute_input": "2023-05-23T05:55:04.423914Z",
     "iopub.status.busy": "2023-05-23T05:55:04.423501Z",
     "iopub.status.idle": "2023-05-23T05:55:04.431986Z",
     "shell.execute_reply": "2023-05-23T05:55:04.430414Z"
    },
    "papermill": {
     "duration": 0.019426,
     "end_time": "2023-05-23T05:55:04.434877",
     "exception": false,
     "start_time": "2023-05-23T05:55:04.415451",
     "status": "completed"
    },
    "tags": []
   },
   "outputs": [
    {
     "data": {
      "text/plain": [
       "(4277, 2)"
      ]
     },
     "execution_count": 17,
     "metadata": {},
     "output_type": "execute_result"
    }
   ],
   "source": [
    "output.shape"
   ]
  },
  {
   "cell_type": "code",
   "execution_count": 18,
   "id": "5d11c589",
   "metadata": {
    "execution": {
     "iopub.execute_input": "2023-05-23T05:55:04.450358Z",
     "iopub.status.busy": "2023-05-23T05:55:04.449968Z",
     "iopub.status.idle": "2023-05-23T05:55:04.483451Z",
     "shell.execute_reply": "2023-05-23T05:55:04.481957Z"
    },
    "papermill": {
     "duration": 0.044257,
     "end_time": "2023-05-23T05:55:04.486068",
     "exception": false,
     "start_time": "2023-05-23T05:55:04.441811",
     "status": "completed"
    },
    "tags": []
   },
   "outputs": [
    {
     "data": {
      "text/html": [
       "<div>\n",
       "<style scoped>\n",
       "    .dataframe tbody tr th:only-of-type {\n",
       "        vertical-align: middle;\n",
       "    }\n",
       "\n",
       "    .dataframe tbody tr th {\n",
       "        vertical-align: top;\n",
       "    }\n",
       "\n",
       "    .dataframe thead th {\n",
       "        text-align: right;\n",
       "    }\n",
       "</style>\n",
       "<table border=\"1\" class=\"dataframe\">\n",
       "  <thead>\n",
       "    <tr style=\"text-align: right;\">\n",
       "      <th></th>\n",
       "      <th>PassengerId</th>\n",
       "      <th>Transported</th>\n",
       "    </tr>\n",
       "  </thead>\n",
       "  <tbody>\n",
       "    <tr>\n",
       "      <th>0</th>\n",
       "      <td>0013_01</td>\n",
       "      <td>True</td>\n",
       "    </tr>\n",
       "    <tr>\n",
       "      <th>1</th>\n",
       "      <td>0018_01</td>\n",
       "      <td>False</td>\n",
       "    </tr>\n",
       "    <tr>\n",
       "      <th>2</th>\n",
       "      <td>0019_01</td>\n",
       "      <td>True</td>\n",
       "    </tr>\n",
       "    <tr>\n",
       "      <th>3</th>\n",
       "      <td>0021_01</td>\n",
       "      <td>True</td>\n",
       "    </tr>\n",
       "    <tr>\n",
       "      <th>4</th>\n",
       "      <td>0023_01</td>\n",
       "      <td>True</td>\n",
       "    </tr>\n",
       "  </tbody>\n",
       "</table>\n",
       "</div>"
      ],
      "text/plain": [
       "  PassengerId  Transported\n",
       "0     0013_01         True\n",
       "1     0018_01        False\n",
       "2     0019_01         True\n",
       "3     0021_01         True\n",
       "4     0023_01         True"
      ]
     },
     "execution_count": 18,
     "metadata": {},
     "output_type": "execute_result"
    }
   ],
   "source": [
    "submission = pd.read_csv('/kaggle/input/spaceship-titanic/sample_submission.csv')\n",
    "submission['Transported'] = pred\n",
    "submission.to_csv('/kaggle/working/submission.csv', index=False)\n",
    "submission.head()"
   ]
  },
  {
   "cell_type": "code",
   "execution_count": null,
   "id": "caa2b0c5",
   "metadata": {
    "papermill": {
     "duration": 0.006594,
     "end_time": "2023-05-23T05:55:04.500069",
     "exception": false,
     "start_time": "2023-05-23T05:55:04.493475",
     "status": "completed"
    },
    "tags": []
   },
   "outputs": [],
   "source": []
  }
 ],
 "metadata": {
  "kernelspec": {
   "display_name": "Python 3",
   "language": "python",
   "name": "python3"
  },
  "language_info": {
   "codemirror_mode": {
    "name": "ipython",
    "version": 3
   },
   "file_extension": ".py",
   "mimetype": "text/x-python",
   "name": "python",
   "nbconvert_exporter": "python",
   "pygments_lexer": "ipython3",
   "version": "3.10.10"
  },
  "papermill": {
   "default_parameters": {},
   "duration": 17.146686,
   "end_time": "2023-05-23T05:55:05.633100",
   "environment_variables": {},
   "exception": null,
   "input_path": "__notebook__.ipynb",
   "output_path": "__notebook__.ipynb",
   "parameters": {},
   "start_time": "2023-05-23T05:54:48.486414",
   "version": "2.4.0"
  }
 },
 "nbformat": 4,
 "nbformat_minor": 5
}
